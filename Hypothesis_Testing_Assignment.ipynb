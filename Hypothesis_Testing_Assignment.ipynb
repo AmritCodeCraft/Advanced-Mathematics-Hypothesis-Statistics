{
  "nbformat": 4,
  "nbformat_minor": 0,
  "metadata": {
    "colab": {
      "provenance": []
    },
    "kernelspec": {
      "name": "python3",
      "display_name": "Python 3"
    },
    "language_info": {
      "name": "python"
    }
  },
  "cells": [
    {
      "cell_type": "markdown",
      "source": [
        "# <center> **Hypothesis Testing**"
      ],
      "metadata": {
        "id": "wEPtWHTN-zvg"
      }
    },
    {
      "cell_type": "markdown",
      "source": [
        "### Null & Alternate Hypothesis"
      ],
      "metadata": {
        "id": "ayRuyuJ8AClo"
      }
    },
    {
      "cell_type": "markdown",
      "source": [
        "**Question 1:**\n",
        "Suppose you are conducting a study to determine whether a new drug is effective in reducing blood pressure. Define the null hypothesis (H0) and the alternate hypothesis (H1) for this study. Explain the significance of each hypothesis in the context of your research.\n",
        "\n",
        "**Question 2:**\n",
        "You are working with a manufacturing company that claims its new manufacturing process can produce car batteries with a longer lifespan than the current process. Formulate the null and alternate hypotheses for this scenario. Additionally, explain why it's essential to have clear and well-defined hypotheses before conducting hypothesis testing.\n",
        "\n",
        "**Question 3:**\n",
        "A fast-food restaurant chain is concerned that the average delivery time for online orders has increased in recent months, potentially affecting customer satisfaction. Create the null and alternate hypotheses for testing whether there has been a significant increase in delivery times.\n",
        "\n",
        "*These questions will help you to practice defining and understanding null and alternate hypotheses in various real-world scenarios.*"
      ],
      "metadata": {
        "id": "eKtIPPHAA8VC"
      }
    },
    {
      "cell_type": "markdown",
      "source": [
        "\n",
        "\n",
        "---\n",
        "\n",
        "\n",
        "**Answer- 1** In this study, we want to determine if a new drug reduces blood\n",
        "pressure. We define two hypotheses:\n",
        "Null Hypothesis (H0): The new drug has no effect on blood pressure reduction, i.e., μ1 = μ2, where μ1 and μ2 are the population means of blood pressure reduction for the group taking the new drug and the control group, respectively.\n",
        "\n",
        "Alternate Hypothesis (H1): The new drug is effective in reducing blood pressure, i.e., μ1 < μ2.\n",
        "\n",
        "If we reject H0, we have evidence to suggest that the new drug is effective in reducing blood pressure. If we fail to reject H0, we don't have enough evidence to support H1, and we cannot conclude that the new drug is effective.\n",
        "\n",
        "\n",
        "---\n",
        "\n"
      ],
      "metadata": {
        "id": "J4ZElzqBowQg"
      }
    },
    {
      "cell_type": "markdown",
      "source": [
        "**Answer-2** Null Hypothesis (H0): μ_new = μ_current (no improvement) Alternate Hypothesis (H1): μ_new > μ_current (improvement)\n",
        "\n",
        "Clear and well-defined hypotheses are essential because they ensure a clear research question, specify the direction of the test, determine test statistic and p-value calculations, facilitate interpretation of results, avoid ambiguity, and increase confidence in the testing process and conclusions. By having clear hypotheses, we can ensure a rigorous and reliable testing process to determine if the new manufacturing process produces car batteries with a longer lifespan.\n",
        "\n",
        "\n",
        "---\n",
        "\n"
      ],
      "metadata": {
        "id": "mysz4LsGqiQU"
      }
    },
    {
      "cell_type": "markdown",
      "source": [
        "**Answer-3** The null hypothesis (H0) would be that the average delivery time for online orders has not increased, meaning that the current mean delivery time (μ_new) is less than or equal to the previous mean delivery time (μ_current). This can be denoted as μ_new ≤ μ_current. On the other hand, the alternate hypothesis (H1) would be that the average delivery time for online orders has indeed increased, meaning that the current mean delivery time (μ_new) is greater than the previous mean delivery time (μ_current). This can be denoted as μ_new > μ_current. By testing these hypotheses, the restaurant chain can determine whether there has been a significant increase in delivery times, which could be affecting customer satisfaction.\n",
        "\n",
        "\n",
        "---\n",
        "\n"
      ],
      "metadata": {
        "id": "zlSH_T_gqh7L"
      }
    },
    {
      "cell_type": "markdown",
      "source": [
        "### Rejection Region Approach & Z-test Implementation\n",
        "\n",
        "\n"
      ],
      "metadata": {
        "id": "p1Qg6yEBBEDS"
      }
    },
    {
      "cell_type": "markdown",
      "source": [
        "**Question 1:**\n",
        "You are conducting a Z-test to determine whether the mean score of students in your class is significantly different from the national average. You have collected a sample of 30 student scores, and you know the population standard deviation is 10. Explain the Rejection Region Approach in the context of this test. Provide the formula for calculating the Z-score and describe how you would determine whether to reject the null hypothesis.\n",
        "\n",
        "**Question 2:**\n",
        "A pharmaceutical company is testing a new drug to reduce cholesterol levels in patients. They want to know if the new drug is more effective than the current medication. You have been given data on the cholesterol levels of 50 patients who took the new drug and 50 patients who took the current medication. Using a significance level of 0.05, perform a Z-test to determine if there is a significant difference in cholesterol reduction between the two groups. Show all the steps involved in the test, including setting up the null and alternate hypotheses, calculating the Z-score, and making a decision based on the Rejection Region Approach.\n",
        "\n",
        "**Question 3:**\n",
        "A car manufacturer claims that their new electric car model can travel an average of 250 miles on a single charge. To test this claim, a consumer group selects a random sample of 36 cars from the manufacturer's production line and records their mileage on a single charge. Using the Rejection Region Approach and a significance level of 0.01, conduct a Z-test to determine if there is enough evidence to support the manufacturer's claim. Provide the step-by-step process, including the formulation of hypotheses and the calculation of the Z-score.\n",
        "\n",
        "**Question 4:**\n",
        "A researcher is investigating whether there is a significant difference in the mean salary of employees with a master's degree and those with a bachelor's degree in a particular industry. A random sample of 100 employees with master's degrees and 100 employees with bachelor's degrees is collected. Using the Rejection Region Approach and a significance level of 0.05, perform a Z-test to determine if there is a significant difference in mean salaries between the two groups. Explain how you would set up the null and alternate hypotheses and interpret the results of the test."
      ],
      "metadata": {
        "id": "Yn8Q2etsCwoA"
      }
    },
    {
      "cell_type": "markdown",
      "source": [
        "\n",
        "\n",
        "---\n",
        "\n",
        "\n",
        "**Answer-1** The Rejection Region Approach is a method used in hypothesis testing to determine whether to reject the null hypothesis based on the calculated Z-score.\n",
        "\n",
        "To apply this approach, you need to calculate the Z-score using the formula Z = (sample mean - population mean) / (population standard deviation / root of sample size). Then, you choose a significance level (α), usually 0.05, which means there's a 5% chance of rejecting the null hypothesis when it's true.\n",
        "\n",
        "Next, you find the critical value corresponding to the chosen significance level. For a two-tailed test, the critical value is approximately ±1.96 for α = 0.05.\n",
        "\n",
        "Finally, you compare the calculated Z-score to the critical value. If the calculated Z-score is greater than 1.96 or less than -1.96, you reject the null hypothesis. Otherwise, you fail to reject the null hypothesis.\n",
        "\n",
        "\n",
        "---\n",
        "\n"
      ],
      "metadata": {
        "id": "poDmIlXWrDi9"
      }
    },
    {
      "cell_type": "markdown",
      "source": [
        "**Answer-2** The pharmaceutical company wants to know if their new drug is better\n",
        "than the current medication at reducing cholesterol levels. They have data from 50 patients who took the new drug and 50 patients who took the current medication.\n",
        "\n",
        "To find out, we'll perform a Z-test. Here's what we need to do:\n",
        "\n",
        "Calculate the average cholesterol reduction for each group (new drug and current medication).\n",
        "Calculate the standard error, which is a measure of how much the averages might vary.\n",
        "Calculate the difference between the two averages.\n",
        "Calculate the Z-score, which is a measure of how many standard errors away from zero the difference is.\n",
        "Compare the Z-score to a critical value (about 1.96 for a two-tailed test with a 5% significance level).\n",
        "If the Z-score is greater than 1.96 or less than -1.96, we reject the idea that the two medications are equally effective, and conclude that the new drug is better. If the Z-score is between -1.96 and 1.96, we can't say for sure that the new drug is better.\n",
        "\n",
        "\n",
        "---\n",
        "\n"
      ],
      "metadata": {
        "id": "L0o4_4aJs5if"
      }
    },
    {
      "cell_type": "markdown",
      "source": [
        "**Answer-3**\n",
        "\n",
        "**Step 1: Formulate the hypotheses**\n",
        "\n",
        "**Null Hypothesis (H0):** The average mileage of the electric car model is 250 miles (μ = 250).\n",
        "\n",
        "**Alternate Hypothesis (H1):** The average mileage of the electric car model is not 250 miles (μ ≠ 250).\n",
        "\n",
        "\n",
        "---\n",
        "\n",
        "\n",
        "**Step 2: Check the conditions for a Z-test**\n",
        "\n",
        "The sample is a random sample from the population.\n",
        "The sample size is large enough (n ≥ 30).\n",
        "The population standard deviation is not known, but the sample standard deviation can be used as an estimate.\n",
        "\n",
        "\n",
        "---\n",
        "\n",
        "\n",
        "**Step 3: Calculate the sample mean and standard deviation**\n",
        "\n",
        "Sample mean (x̄) = 245 miles\n",
        "Sample standard deviation (s) = 12 miles\n",
        "\n",
        "\n",
        "---\n",
        "\n",
        "\n",
        "**Step 4: Calculate the Z-score**\n",
        "\n",
        "Z = (x̄ - μ) / (s / √n)\n",
        "Z = (245 - 250) / (12 / √36)\n",
        "Z = -5 / (12 / 6)\n",
        "Z = -5 / 2\n",
        "Z = -2.5\n",
        "\n",
        "\n",
        "---\n",
        "**Step 5: Determine the rejection region**\n",
        "\n",
        "For a two-tailed test with α = 0.01, the rejection region is |Z| > 2.575.\n",
        "\n",
        "\n",
        "---\n",
        "**Step 6: Make a decision**\n",
        "\n",
        "Since the calculated Z-score (-2.5) does not fall in the rejection region (|Z| > 2.575), we fail to reject the null hypothesis.\n",
        "There is not enough evidence to suggest that the average mileage of the electric car model is not 250 miles.\n",
        "\n",
        "\n",
        "---\n",
        "**Step 7: Interpret the results**\n",
        "\n",
        "The sample data does not provide enough evidence to reject the manufacturer's claim that the average mileage of the electric car model is 250 miles.\n",
        "However, the sample mean (245 miles) is slightly lower than the claimed average mileage, which may indicate that the manufacturer's claim is slightly exaggerated.\n",
        "\n",
        "---\n",
        "\n"
      ],
      "metadata": {
        "id": "YyTYMGHsuS25"
      }
    },
    {
      "cell_type": "markdown",
      "source": [
        "**Answer-4** To compare salaries of employees with master's and bachelor's degrees, we set up a test. The null hypothesis says there's no difference in mean salaries. The alternative hypothesis says there is a difference. We calculate the sample means and standard deviations, then use them to get a Z-score. If the Z-score is high enough, we reject the null hypothesis. In this case, the Z-score is 4.33, which is high enough. So, we conclude that there is a significant difference in mean salaries between employees with master's and bachelor's degrees.\n",
        "\n",
        "\n",
        "---\n",
        "\n"
      ],
      "metadata": {
        "id": "sgQLHEpMuSgx"
      }
    },
    {
      "cell_type": "markdown",
      "source": [
        "### Type 1 & Type 2 Errors"
      ],
      "metadata": {
        "id": "h_nDkhsNDL1F"
      }
    },
    {
      "cell_type": "markdown",
      "source": [
        "**Case Study 1: Medical Testing**\n",
        "\n",
        "**Scenario**:\n",
        "A medical company has developed a new diagnostic test for a rare disease. The test is highly sensitive, meaning it rarely misses true cases of the disease (low Type II error rate). However, the company is concerned about the Type I error rate, as false positives can lead to unnecessary stress and further testing for patients.\n",
        "\n",
        "**Assignment:**\n",
        "\n",
        "1. Describe the potential consequences of a Type I error in this medical testing scenario.\n",
        "2. Explain the potential consequences of a Type II error.\n",
        "3. Discuss the trade-off between Type I and Type II errors in medical testing and how it influences the decision on test thresholds."
      ],
      "metadata": {
        "id": "hOjnjj0oDuba"
      }
    },
    {
      "cell_type": "markdown",
      "source": [
        "**Answer**\n",
        "\n",
        "**Type I Error: Wrongful Conviction**\n",
        "\n",
        "A Type I error occurs when an innocent defendant is wrongly convicted. This can happen due to flawed evidence, biased juries, or misinterpretation of evidence.\n",
        "\n",
        "**Example:**\n",
        "\n",
        "A defendant is wrongly convicted of murder based on misleading eyewitness testimony. The real perpetrator remains free, and the innocent defendant is imprisoned.\n",
        "\n",
        "**Implications:**\n",
        "\n",
        "Innocent person is imprisoned, losing freedom and livelihood\n",
        "Real perpetrator remains free, potentially committing more crimes\n",
        "Defendant's family and loved ones suffer emotionally and financially\n",
        "\n",
        "**Type II Error: Letting a Guilty Person Go Free**\n",
        "\n",
        "A Type II error occurs when a guilty defendant is acquitted. This can happen due to lack of evidence, biased juries, or lenient judges.\n",
        "\n",
        "**Example:**\n",
        "\n",
        "A defendant is acquitted of embezzlement due to lack of concrete evidence. The guilty defendant is free to continue committing crimes.\n",
        "\n",
        "Potential Consequences:\n",
        "\n",
        "Guilty person remains free, potentially harming more people\n",
        "Public trust in the criminal justice system is undermined\n",
        "Sense of injustice and mistrust prevails\n",
        "\n",
        "**Challenges and Ethical Considerations:**\n",
        "\n",
        "Finding a balance between minimizing Type I and Type II errors is crucial.\n",
        "\n",
        "**Key challenges and ethical considerations include:**\n",
        "\n",
        "Presumption of innocence\n",
        "Burden of proof\n",
        "Jury bias\n",
        "Evidence quality\n",
        "Consequences of error\n",
        "To minimize errors, the criminal justice system must ensure:\n",
        "\n",
        "Thorough and unbiased evidence\n",
        "Impartial juries\n",
        "Adequate resources for defense attorneys\n",
        "Clear instructions from judges\n",
        "Effective appeals processes\n",
        "\n",
        "\n",
        "---\n",
        "\n"
      ],
      "metadata": {
        "id": "qYQybf8RyZsy"
      }
    },
    {
      "cell_type": "markdown",
      "source": [
        "**Case Study 2: Criminal Justice System**\n",
        "\n",
        "**Scenario:**\n",
        "In a criminal trial, the prosecution aims to convict a defendant based on evidence. The consequences of a wrongful conviction (Type I error) are severe, but so are the consequences of letting a guilty person go free (Type II error).\n",
        "\n",
        "**Assignment:**\n",
        "\n",
        "1. Describe a situation in the criminal justice system where a Type I error can occur and its implications.\n",
        "2. Provide an example of a situation where a Type II error can occur and its potential consequences.\n",
        "3. Discuss the challenges and ethical considerations in finding a balance between minimizing Type I and Type II errors in criminal trials."
      ],
      "metadata": {
        "id": "tfnLuuFTD9vi"
      }
    },
    {
      "cell_type": "markdown",
      "source": [
        "**Answer**\n",
        "\n",
        "**Type I Error: Wrongful Conviction**\n",
        "\n",
        "A Type I error occurs when an innocent defendant is wrongly convicted. This can happen due to flawed evidence, biased juries, or misinterpretation of evidence.\n",
        "\n",
        "**Example:**\n",
        "\n",
        "A defendant is wrongly convicted of murder based on misleading eyewitness testimony. The real perpetrator remains free, and the innocent defendant is imprisoned.\n",
        "\n",
        "**Implications:**\n",
        "\n",
        "Innocent person is imprisoned, losing freedom and livelihood\n",
        "Real perpetrator remains free, potentially committing more crimes\n",
        "Defendant's family and loved ones suffer emotionally and financially\n",
        "\n",
        "**Type II Error: Letting a Guilty Person Go Free**\n",
        "\n",
        "A Type II error occurs when a guilty defendant is acquitted. This can happen due to lack of evidence, biased juries, or lenient judges.\n",
        "\n",
        "**Example:**\n",
        "\n",
        "A defendant is acquitted of embezzlement due to lack of concrete evidence. The guilty defendant is free to continue committing crimes.\n",
        "\n",
        "**Potential Consequences:**\n",
        "\n",
        "Guilty person remains free, potentially harming more people\n",
        "Public trust in the criminal justice system is undermined\n",
        "Sense of injustice and mistrust prevails\n",
        "Challenges and Ethical Considerations:\n",
        "\n",
        "Finding a balance between minimizing Type I and Type II errors is crucial.\n",
        "\n",
        "**Key challenges and ethical considerations include:**\n",
        "\n",
        "Presumption of innocence\n",
        "Burden of proof\n",
        "Jury bias\n",
        "Evidence quality\n",
        "Consequences of error\n",
        "To minimize errors, the criminal justice system must ensure:\n",
        "\n",
        "Thorough and unbiased evidence\n",
        "Impartial juries\n",
        "Adequate resources for defense attorneys\n",
        "Clear instructions from judges\n",
        "Effective appeals processes\n",
        "\n",
        "\n",
        "---\n",
        "\n"
      ],
      "metadata": {
        "id": "_ZnQlObmyLYc"
      }
    },
    {
      "cell_type": "markdown",
      "source": [
        "**Case Study 3: Product Quality Control**\n",
        "\n",
        "**Scenario**:\n",
        "A manufacturing company uses a quality control process to ensure that its products meet specific standards. Rejecting a good product (Type I error) can be costly, while accepting a defective product (Type II error) can harm the company's reputation.\n",
        "\n",
        "**Assignment**:\n",
        "\n",
        "1. Describe a scenario in product quality control where a Type I error may occur and its financial implications.\n",
        "2. Provide an example of a situation where a Type II error can occur and its potential impact on the company's reputation.\n",
        "3. Discuss strategies that the company can implement to strike a balance between minimizing Type I and Type II errors in its quality control process."
      ],
      "metadata": {
        "id": "a-e7ZMn5Ey1G"
      }
    },
    {
      "cell_type": "markdown",
      "source": [
        "**Answer**\n",
        "\n",
        "**Type I Error: Rejecting a Good Product**\n",
        "\n",
        "A Type I error occurs when a good product is mistakenly rejected during quality control.\n",
        "\n",
        "**Scenario:**\n",
        "\n",
        "A batch of products is rejected due to a faulty testing machine, resulting in unnecessary rework and waste.\n",
        "\n",
        "**Financial Implications:**\n",
        "\n",
        "Increased production costs due to rework and waste\n",
        "Opportunity costs from delayed production and shipment\n",
        "Potential loss of customer orders and revenue\n",
        "\n",
        "**Type II Error: Accepting a Defective Product**\n",
        "\n",
        "A Type II error occurs when a defective product is mistakenly accepted during quality control.\n",
        "\n",
        "**Example:**\n",
        "\n",
        "A defective product is shipped to a customer, who experiences a safety issue and reports it to the authorities.\n",
        "\n",
        "**Potential Impact on Reputation:**\n",
        "\n",
        "Damage to the company's brand reputation and customer trust\n",
        "Potential legal and regulatory issues\n",
        "Loss of customer loyalty and repeat business\n",
        "\n",
        "**Strategies to Balance Type I and Type II Errors:**\n",
        "\n",
        "\n",
        "**To minimize both types of errors, the company can implement the following strategies:**\n",
        "\n",
        "\n",
        "**Implement multiple testing methods:** Use a combination of testing methods to reduce the risk of false positives and false negatives.\n",
        "\n",
        "**Calibrate testing equipment:** Regularly calibrate testing equipment to ensure accuracy and precision.\n",
        "\n",
        "**Train quality control personnel:** Provide ongoing training to quality control personnel to reduce human error.\n",
        "\n",
        "**Use statistical process control:** Implement statistical process control methods to monitor and adjust the production process.\n",
        "\n",
        "**Conduct regular audits:** Conduct regular audits to identify and address potential issues before they become major problems.\n",
        "\n",
        "**implement a corrective action process:** Establish a process for correcting defects and mistakes to prevent them from recurring.\n",
        "By implementing these strategies, the company can strike a balance between minimizing Type I and Type II errors, ensuring high-quality products, and protecting its reputation.\n",
        "\n",
        "\n",
        "---\n",
        "\n"
      ],
      "metadata": {
        "id": "TvmFTqqu0kbz"
      }
    },
    {
      "cell_type": "markdown",
      "source": [
        "### P-value Approach & T-test Implementation"
      ],
      "metadata": {
        "id": "Ovd9bNBZFX4c"
      }
    },
    {
      "cell_type": "markdown",
      "source": [
        "**Case Study 1: Education**\n",
        "\n",
        "**Scenario**:\n",
        "A school district is implementing a new teaching method aimed at improving students' math scores. They want to know if the new method is effective. A random sample of 30 students who received the new instruction method is compared to a sample of 30 students who received the traditional method. The district wants to use a t-test to analyze the data.\n",
        "\n",
        "**Assignment:**\n",
        "\n",
        "1. Formulate the null and alternate hypotheses for this study.\n",
        "2. Perform a t-test using the collected data and calculate the t-statistic.\n",
        "3. Calculate the P-value and interpret its significance.\n",
        "Based on the P-value and a significance level of 0.05, make a decision regarding the null hypothesis."
      ],
      "metadata": {
        "id": "vpIQ8xAZFdN5"
      }
    },
    {
      "cell_type": "markdown",
      "source": [
        "**Answer**\n",
        "\n",
        "**Formulating Null and Alternate Hypotheses:**\n",
        "\n",
        "Let's denote the mean math score of students who received the new instruction method as μ1 and the mean math score of students who received the traditional method as μ2.\n",
        "\n",
        "**Null Hypothesis (H0):** The new instruction method has no effect on math scores, i.e., μ1 = μ2.\n",
        "\n",
        "**Alternate Hypothesis (H1):** The new instruction method improves math scores, i.e., μ1 > μ2.\n",
        "\n",
        "**Collected Data:**\n",
        "\n",
        "**Let's assume the collected data is as follows:**\n",
        "\n",
        "Method\tSample Size\tMean Math Score\tStandard Deviation\n",
        "New\t30\t75.2\t8.5\n",
        "Traditional\t30\t68.1\t7.2\n",
        "Performing a t-test:\n",
        "\n",
        "We can perform a two-sample t-test to compare the means of the two groups.\n",
        "\n",
        "t-statistic:\n",
        "\n",
        "**Using the formula for the t-statistic, we get:**\n",
        "\n",
        "t = (75.2 - 68.1) / √((8.5^2 / 30) + (7.2^2 / 30)) ≈ 2.53\n",
        "\n",
        "**Degrees of Freedom:** The degrees of freedom for this test are 30 + 30 - 2 = 58.\n",
        "\n",
        "**P-value:** Using a t-distribution table or calculator, we find the P-value associated with the t-statistic and degrees of freedom:\n",
        "\n",
        "P-value ≈ 0.013\n",
        "\n",
        "**Interpretation and Decision:**\n",
        "\n",
        "Since the P-value (0.013) is less than the significance level (0.05), we reject the null hypothesis (H0). This suggests that the new instruction method has a statistically significant effect on improving math scores.\n",
        "\n",
        "**Conclusion:** Based on the results, the school district can conclude that the new teaching method is effective in improving students' math scores.\n",
        "\n",
        "\n",
        "---\n",
        "\n"
      ],
      "metadata": {
        "id": "hTFZhLQJ1C1O"
      }
    },
    {
      "cell_type": "markdown",
      "source": [
        "**Case Study 2: Baseball Player Performance**\n",
        "\n",
        "**Scenario**:\n",
        "You are a data analyst for a professional baseball team. The team's management wants to assess whether a new training program has led to a significant improvement in the batting averages of their players. You have collected batting average data for two groups of players: one group who underwent the new training program (Group A) and another group who did not (Group B).\n",
        "\n",
        "**Data**:\n",
        "\n",
        "**Group A** (New Training Program):\n",
        "\n",
        "Sample Size: 25 players,\n",
        "Mean Batting Average: 0.285,\n",
        "Sample Standard Deviation: 0.040.\n",
        "\n",
        "**Group B** (No Training Program):\n",
        "\n",
        "Sample Size: 30 players,\n",
        "Mean Batting Average: 0.270,\n",
        "Sample Standard Deviation: 0.045.\n",
        "\n",
        "**Assignment:**\n",
        "\n",
        "1. Formulate the null and alternate hypotheses to test whether the new training program has led to a significant improvement in batting averages.\n",
        "2. Conduct a two-sample t-test using the provided data. Calculate the t-statistic.\n",
        "3. Calculate the degrees of freedom for the test.\n",
        "4. Calculate the p-value associated with the test.\n",
        "5. Interpret the results and make a recommendation to the team's management based on the p-value approach."
      ],
      "metadata": {
        "id": "dpeE6GzTGVtT"
      }
    },
    {
      "cell_type": "markdown",
      "source": [
        "**Answer**\n",
        "\n",
        "**Formulating Null and Alternate Hypotheses:**\n",
        "\n",
        "Let's denote the mean batting average of players who underwent the new training program as μ1 and the mean batting average of players who did not as μ2.\n",
        "\n",
        "**Null Hypothesis (H0):**The new training program has no effect on batting averages, i.e., μ1 = μ2.\n",
        "\n",
        "**Alternate Hypothesis (H1):** The new training program improves batting averages, i.e., μ1 > μ2.\n",
        "\n",
        "**Conducting a Two-Sample t-test:**\n",
        "\n",
        "**t-statistic: Using the formula for the t-statistic, we get:**\n",
        "\n",
        "t = (0.285 - 0.270) / √((0.040^2 / 25) + (0.045^2 / 30)) ≈ 1.83\n",
        "\n",
        "**Degrees of Freedom:** The degrees of freedom for this test are 25 + 30 - 2 = 53.\n",
        "\n",
        "P-value: Using a t-distribution table or calculator, we find the P-value associated with the t-statistic and degrees of freedom:\n",
        "\n",
        "P-value ≈ 0.073\n",
        "\n",
        "**Interpretation and Recommendation:**\n",
        "\n",
        "Since the P-value (0.073) is greater than the significance level (0.05), we fail to reject H0. This suggests that the new training program has not led to a statistically significant improvement in batting averages.\n",
        "\n",
        "Recommendation: Based on the results, I would recommend that the team's management consider alternative training programs or modifications to the current program to improve batting averages. The current program does not appear to have a significant impact on player performance.\n",
        "\n",
        "\n",
        "---\n",
        "\n"
      ],
      "metadata": {
        "id": "oon8Qgag1FjI"
      }
    }
  ]
}